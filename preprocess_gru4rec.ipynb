{
 "cells": [
  {
   "cell_type": "code",
   "execution_count": 89,
   "metadata": {},
   "outputs": [],
   "source": [
    "import numpy as np\n",
    "import pandas as pd\n",
    "pd.set_option('display.max_columns', None)"
   ]
  },
  {
   "cell_type": "code",
   "execution_count": 90,
   "metadata": {},
   "outputs": [],
   "source": [
    "df_sess = pd.read_csv('dataset/sessions_train.csv')\n",
    "# df_prod = pd.read_csv('products_train.csv')"
   ]
  },
  {
   "cell_type": "code",
   "execution_count": 91,
   "metadata": {},
   "outputs": [
    {
     "data": {
      "text/plain": [
       "array(['DE', 'JP', 'UK', 'ES', 'FR', 'IT'], dtype=object)"
      ]
     },
     "execution_count": 91,
     "metadata": {},
     "output_type": "execute_result"
    }
   ],
   "source": [
    "df_sess['locale'].unique()\n",
    "# df_sess.columns"
   ]
  },
  {
   "cell_type": "code",
   "execution_count": 92,
   "metadata": {},
   "outputs": [],
   "source": [
    "# df_prod_task1 = df_prod[df_prod['locale'].isin(['UK', 'DE', 'JP'])]\n",
    "# df_prod_task1"
   ]
  },
  {
   "cell_type": "code",
   "execution_count": 93,
   "metadata": {},
   "outputs": [
    {
     "data": {
      "text/html": [
       "<div>\n",
       "<style scoped>\n",
       "    .dataframe tbody tr th:only-of-type {\n",
       "        vertical-align: middle;\n",
       "    }\n",
       "\n",
       "    .dataframe tbody tr th {\n",
       "        vertical-align: top;\n",
       "    }\n",
       "\n",
       "    .dataframe thead th {\n",
       "        text-align: right;\n",
       "    }\n",
       "</style>\n",
       "<table border=\"1\" class=\"dataframe\">\n",
       "  <thead>\n",
       "    <tr style=\"text-align: right;\">\n",
       "      <th></th>\n",
       "      <th>prev_items</th>\n",
       "      <th>next_item</th>\n",
       "      <th>locale</th>\n",
       "    </tr>\n",
       "  </thead>\n",
       "  <tbody>\n",
       "    <tr>\n",
       "      <th>3272716</th>\n",
       "      <td>['B08MV5B53K' 'B08MV4RCQR' 'B08MV5B53K']</td>\n",
       "      <td>B012408XPC</td>\n",
       "      <td>ES</td>\n",
       "    </tr>\n",
       "    <tr>\n",
       "      <th>3272717</th>\n",
       "      <td>['B07JGW4QWX' 'B085VCXHXL']</td>\n",
       "      <td>B07JFPYN5P</td>\n",
       "      <td>ES</td>\n",
       "    </tr>\n",
       "    <tr>\n",
       "      <th>3272718</th>\n",
       "      <td>['B08BFQ52PR' 'B08LVSTZVF' 'B08BFQ52PR']</td>\n",
       "      <td>B08NJP3KT6</td>\n",
       "      <td>ES</td>\n",
       "    </tr>\n",
       "    <tr>\n",
       "      <th>3272719</th>\n",
       "      <td>['B08PPBF9C6' 'B08PPBF9C6' 'B08PPBF9C6' 'B08PP...</td>\n",
       "      <td>B08PP6BLLK</td>\n",
       "      <td>ES</td>\n",
       "    </tr>\n",
       "    <tr>\n",
       "      <th>3272720</th>\n",
       "      <td>['B0B6W67XCR' 'B0B712FY2M' 'B0B6ZYJ3S2']</td>\n",
       "      <td>B09SL4MBM2</td>\n",
       "      <td>ES</td>\n",
       "    </tr>\n",
       "    <tr>\n",
       "      <th>...</th>\n",
       "      <td>...</td>\n",
       "      <td>...</td>\n",
       "      <td>...</td>\n",
       "    </tr>\n",
       "    <tr>\n",
       "      <th>3606244</th>\n",
       "      <td>['B086CYFSKW' 'B0874F9859' 'B086CYFSKW']</td>\n",
       "      <td>B07B5TYD76</td>\n",
       "      <td>IT</td>\n",
       "    </tr>\n",
       "    <tr>\n",
       "      <th>3606245</th>\n",
       "      <td>['B09NRZKZ7V' 'B08WJTPV93']</td>\n",
       "      <td>B08L1P4C3D</td>\n",
       "      <td>IT</td>\n",
       "    </tr>\n",
       "    <tr>\n",
       "      <th>3606246</th>\n",
       "      <td>['B085JFX7MP' 'B085JGHW8R']</td>\n",
       "      <td>B01MPWVD44</td>\n",
       "      <td>IT</td>\n",
       "    </tr>\n",
       "    <tr>\n",
       "      <th>3606247</th>\n",
       "      <td>['B00B0UING2' 'B00B0UING2']</td>\n",
       "      <td>B00D3HYEZ4</td>\n",
       "      <td>IT</td>\n",
       "    </tr>\n",
       "    <tr>\n",
       "      <th>3606248</th>\n",
       "      <td>['B092S9D1SD' 'B09XQQ1S72' 'B0852MS7QC' 'B0B1V...</td>\n",
       "      <td>B0B7RX65YP</td>\n",
       "      <td>IT</td>\n",
       "    </tr>\n",
       "  </tbody>\n",
       "</table>\n",
       "<p>333533 rows × 3 columns</p>\n",
       "</div>"
      ],
      "text/plain": [
       "                                                prev_items   next_item locale\n",
       "3272716           ['B08MV5B53K' 'B08MV4RCQR' 'B08MV5B53K']  B012408XPC     ES\n",
       "3272717                        ['B07JGW4QWX' 'B085VCXHXL']  B07JFPYN5P     ES\n",
       "3272718           ['B08BFQ52PR' 'B08LVSTZVF' 'B08BFQ52PR']  B08NJP3KT6     ES\n",
       "3272719  ['B08PPBF9C6' 'B08PPBF9C6' 'B08PPBF9C6' 'B08PP...  B08PP6BLLK     ES\n",
       "3272720           ['B0B6W67XCR' 'B0B712FY2M' 'B0B6ZYJ3S2']  B09SL4MBM2     ES\n",
       "...                                                    ...         ...    ...\n",
       "3606244           ['B086CYFSKW' 'B0874F9859' 'B086CYFSKW']  B07B5TYD76     IT\n",
       "3606245                        ['B09NRZKZ7V' 'B08WJTPV93']  B08L1P4C3D     IT\n",
       "3606246                        ['B085JFX7MP' 'B085JGHW8R']  B01MPWVD44     IT\n",
       "3606247                        ['B00B0UING2' 'B00B0UING2']  B00D3HYEZ4     IT\n",
       "3606248  ['B092S9D1SD' 'B09XQQ1S72' 'B0852MS7QC' 'B0B1V...  B0B7RX65YP     IT\n",
       "\n",
       "[333533 rows x 3 columns]"
      ]
     },
     "execution_count": 93,
     "metadata": {},
     "output_type": "execute_result"
    }
   ],
   "source": [
    "df_sess_task2 = df_sess[df_sess['locale'].isin(['ES', 'FR', 'IT'])]\n",
    "df_sess_task2\n",
    "# these can be decreased to smaller datasets to try faster"
   ]
  },
  {
   "cell_type": "code",
   "execution_count": 94,
   "metadata": {},
   "outputs": [
    {
     "data": {
      "text/html": [
       "<div>\n",
       "<style scoped>\n",
       "    .dataframe tbody tr th:only-of-type {\n",
       "        vertical-align: middle;\n",
       "    }\n",
       "\n",
       "    .dataframe tbody tr th {\n",
       "        vertical-align: top;\n",
       "    }\n",
       "\n",
       "    .dataframe thead th {\n",
       "        text-align: right;\n",
       "    }\n",
       "</style>\n",
       "<table border=\"1\" class=\"dataframe\">\n",
       "  <thead>\n",
       "    <tr style=\"text-align: right;\">\n",
       "      <th></th>\n",
       "      <th>prev_items</th>\n",
       "      <th>next_item</th>\n",
       "      <th>locale</th>\n",
       "    </tr>\n",
       "  </thead>\n",
       "  <tbody>\n",
       "    <tr>\n",
       "      <th>0</th>\n",
       "      <td>['B09W9FND7K' 'B09JSPLN1M']</td>\n",
       "      <td>B09M7GY217</td>\n",
       "      <td>DE</td>\n",
       "    </tr>\n",
       "    <tr>\n",
       "      <th>1</th>\n",
       "      <td>['B076THCGSG' 'B007MO8IME' 'B08MF65MLV' 'B001B...</td>\n",
       "      <td>B001B4THSA</td>\n",
       "      <td>DE</td>\n",
       "    </tr>\n",
       "    <tr>\n",
       "      <th>2</th>\n",
       "      <td>['B0B1LGXWDS' 'B00AZYORS2' 'B0B1LGXWDS' 'B00AZ...</td>\n",
       "      <td>B0767DTG2Q</td>\n",
       "      <td>DE</td>\n",
       "    </tr>\n",
       "    <tr>\n",
       "      <th>3</th>\n",
       "      <td>['B09XMTWDVT' 'B0B4MZZ8MB' 'B0B7HZ2GWX' 'B09XM...</td>\n",
       "      <td>B0B4R9NN4B</td>\n",
       "      <td>DE</td>\n",
       "    </tr>\n",
       "    <tr>\n",
       "      <th>4</th>\n",
       "      <td>['B09Y5CSL3T' 'B09Y5DPTXN' 'B09FKD61R8']</td>\n",
       "      <td>B0BGVBKWGZ</td>\n",
       "      <td>DE</td>\n",
       "    </tr>\n",
       "    <tr>\n",
       "      <th>...</th>\n",
       "      <td>...</td>\n",
       "      <td>...</td>\n",
       "      <td>...</td>\n",
       "    </tr>\n",
       "    <tr>\n",
       "      <th>3272711</th>\n",
       "      <td>['B06XK89969' 'B01NGT5NF4' 'B00D5Z89C8' 'B07ZV...</td>\n",
       "      <td>B07VL2W1DR</td>\n",
       "      <td>UK</td>\n",
       "    </tr>\n",
       "    <tr>\n",
       "      <th>3272712</th>\n",
       "      <td>['B076M85W1K' 'B07L8792Q9' 'B095RW318L' 'B095R...</td>\n",
       "      <td>B095RQ2LCY</td>\n",
       "      <td>UK</td>\n",
       "    </tr>\n",
       "    <tr>\n",
       "      <th>3272713</th>\n",
       "      <td>['B00JQDIQRQ' 'B001O59QQE']</td>\n",
       "      <td>B088M5YT6Y</td>\n",
       "      <td>UK</td>\n",
       "    </tr>\n",
       "    <tr>\n",
       "      <th>3272714</th>\n",
       "      <td>['B07QMHMLJZ' 'B07FPYYMC4']</td>\n",
       "      <td>B07PFF814D</td>\n",
       "      <td>UK</td>\n",
       "    </tr>\n",
       "    <tr>\n",
       "      <th>3272715</th>\n",
       "      <td>['B06XC9TW57' 'B08WYQ4S11']</td>\n",
       "      <td>B08WZ4CSRQ</td>\n",
       "      <td>UK</td>\n",
       "    </tr>\n",
       "  </tbody>\n",
       "</table>\n",
       "<p>3272716 rows × 3 columns</p>\n",
       "</div>"
      ],
      "text/plain": [
       "                                                prev_items   next_item locale\n",
       "0                              ['B09W9FND7K' 'B09JSPLN1M']  B09M7GY217     DE\n",
       "1        ['B076THCGSG' 'B007MO8IME' 'B08MF65MLV' 'B001B...  B001B4THSA     DE\n",
       "2        ['B0B1LGXWDS' 'B00AZYORS2' 'B0B1LGXWDS' 'B00AZ...  B0767DTG2Q     DE\n",
       "3        ['B09XMTWDVT' 'B0B4MZZ8MB' 'B0B7HZ2GWX' 'B09XM...  B0B4R9NN4B     DE\n",
       "4                 ['B09Y5CSL3T' 'B09Y5DPTXN' 'B09FKD61R8']  B0BGVBKWGZ     DE\n",
       "...                                                    ...         ...    ...\n",
       "3272711  ['B06XK89969' 'B01NGT5NF4' 'B00D5Z89C8' 'B07ZV...  B07VL2W1DR     UK\n",
       "3272712  ['B076M85W1K' 'B07L8792Q9' 'B095RW318L' 'B095R...  B095RQ2LCY     UK\n",
       "3272713                        ['B00JQDIQRQ' 'B001O59QQE']  B088M5YT6Y     UK\n",
       "3272714                        ['B07QMHMLJZ' 'B07FPYYMC4']  B07PFF814D     UK\n",
       "3272715                        ['B06XC9TW57' 'B08WYQ4S11']  B08WZ4CSRQ     UK\n",
       "\n",
       "[3272716 rows x 3 columns]"
      ]
     },
     "execution_count": 94,
     "metadata": {},
     "output_type": "execute_result"
    }
   ],
   "source": [
    "df_sess_task1 = df_sess[df_sess['locale'].isin(['UK', 'DE', 'JP'])]\n",
    "df_sess_task1\n",
    "# these can be decreased to smaller datasets to try faster"
   ]
  },
  {
   "cell_type": "code",
   "execution_count": 107,
   "metadata": {},
   "outputs": [],
   "source": [
    "df_es = df_sess[df_sess['locale'] == 'ES']\n",
    "# df_pure = df_es.drop(columns=['locale'])\n",
    "df_pure = df_sess_task2.drop(columns=['locale'])"
   ]
  },
  {
   "cell_type": "code",
   "execution_count": 108,
   "metadata": {},
   "outputs": [
    {
     "data": {
      "text/plain": [
       "str"
      ]
     },
     "execution_count": 108,
     "metadata": {},
     "output_type": "execute_result"
    }
   ],
   "source": [
    "# print(df_pure.head(3)['prev_items'])\n",
    "df_pure\n",
    "type(df_pure['next_item'].iloc[0])"
   ]
  },
  {
   "cell_type": "code",
   "execution_count": 109,
   "metadata": {},
   "outputs": [
    {
     "data": {
      "text/html": [
       "<div>\n",
       "<style scoped>\n",
       "    .dataframe tbody tr th:only-of-type {\n",
       "        vertical-align: middle;\n",
       "    }\n",
       "\n",
       "    .dataframe tbody tr th {\n",
       "        vertical-align: top;\n",
       "    }\n",
       "\n",
       "    .dataframe thead th {\n",
       "        text-align: right;\n",
       "    }\n",
       "</style>\n",
       "<table border=\"1\" class=\"dataframe\">\n",
       "  <thead>\n",
       "    <tr style=\"text-align: right;\">\n",
       "      <th></th>\n",
       "      <th>prev_items</th>\n",
       "      <th>next_item</th>\n",
       "    </tr>\n",
       "  </thead>\n",
       "  <tbody>\n",
       "    <tr>\n",
       "      <th>3272716</th>\n",
       "      <td>['B08MV5B53K', 'B08MV4RCQR', 'B08MV5B53K']</td>\n",
       "      <td>[B012408XPC]</td>\n",
       "    </tr>\n",
       "    <tr>\n",
       "      <th>3272717</th>\n",
       "      <td>['B07JGW4QWX', 'B085VCXHXL']</td>\n",
       "      <td>[B07JFPYN5P]</td>\n",
       "    </tr>\n",
       "    <tr>\n",
       "      <th>3272718</th>\n",
       "      <td>['B08BFQ52PR', 'B08LVSTZVF', 'B08BFQ52PR']</td>\n",
       "      <td>[B08NJP3KT6]</td>\n",
       "    </tr>\n",
       "    <tr>\n",
       "      <th>3272719</th>\n",
       "      <td>['B08PPBF9C6', 'B08PPBF9C6', 'B08PPBF9C6', 'B0...</td>\n",
       "      <td>[B08PP6BLLK]</td>\n",
       "    </tr>\n",
       "    <tr>\n",
       "      <th>3272720</th>\n",
       "      <td>['B0B6W67XCR', 'B0B712FY2M', 'B0B6ZYJ3S2']</td>\n",
       "      <td>[B09SL4MBM2]</td>\n",
       "    </tr>\n",
       "    <tr>\n",
       "      <th>...</th>\n",
       "      <td>...</td>\n",
       "      <td>...</td>\n",
       "    </tr>\n",
       "    <tr>\n",
       "      <th>3606244</th>\n",
       "      <td>['B086CYFSKW', 'B0874F9859', 'B086CYFSKW']</td>\n",
       "      <td>[B07B5TYD76]</td>\n",
       "    </tr>\n",
       "    <tr>\n",
       "      <th>3606245</th>\n",
       "      <td>['B09NRZKZ7V', 'B08WJTPV93']</td>\n",
       "      <td>[B08L1P4C3D]</td>\n",
       "    </tr>\n",
       "    <tr>\n",
       "      <th>3606246</th>\n",
       "      <td>['B085JFX7MP', 'B085JGHW8R']</td>\n",
       "      <td>[B01MPWVD44]</td>\n",
       "    </tr>\n",
       "    <tr>\n",
       "      <th>3606247</th>\n",
       "      <td>['B00B0UING2', 'B00B0UING2']</td>\n",
       "      <td>[B00D3HYEZ4]</td>\n",
       "    </tr>\n",
       "    <tr>\n",
       "      <th>3606248</th>\n",
       "      <td>['B092S9D1SD', 'B09XQQ1S72', 'B0852MS7QC', 'B0...</td>\n",
       "      <td>[B0B7RX65YP]</td>\n",
       "    </tr>\n",
       "  </tbody>\n",
       "</table>\n",
       "<p>333533 rows × 2 columns</p>\n",
       "</div>"
      ],
      "text/plain": [
       "                                                prev_items     next_item\n",
       "3272716         ['B08MV5B53K', 'B08MV4RCQR', 'B08MV5B53K']  [B012408XPC]\n",
       "3272717                       ['B07JGW4QWX', 'B085VCXHXL']  [B07JFPYN5P]\n",
       "3272718         ['B08BFQ52PR', 'B08LVSTZVF', 'B08BFQ52PR']  [B08NJP3KT6]\n",
       "3272719  ['B08PPBF9C6', 'B08PPBF9C6', 'B08PPBF9C6', 'B0...  [B08PP6BLLK]\n",
       "3272720         ['B0B6W67XCR', 'B0B712FY2M', 'B0B6ZYJ3S2']  [B09SL4MBM2]\n",
       "...                                                    ...           ...\n",
       "3606244         ['B086CYFSKW', 'B0874F9859', 'B086CYFSKW']  [B07B5TYD76]\n",
       "3606245                       ['B09NRZKZ7V', 'B08WJTPV93']  [B08L1P4C3D]\n",
       "3606246                       ['B085JFX7MP', 'B085JGHW8R']  [B01MPWVD44]\n",
       "3606247                       ['B00B0UING2', 'B00B0UING2']  [B00D3HYEZ4]\n",
       "3606248  ['B092S9D1SD', 'B09XQQ1S72', 'B0852MS7QC', 'B0...  [B0B7RX65YP]\n",
       "\n",
       "[333533 rows x 2 columns]"
      ]
     },
     "execution_count": 109,
     "metadata": {},
     "output_type": "execute_result"
    }
   ],
   "source": [
    "df = df_pure.copy()\n",
    "df['prev_items'] = df[\"prev_items\"].apply(lambda x: x.strip(\"[]\").split(\" \"))\n",
    "df['next_item'] = df[\"next_item\"].apply(lambda x: x.strip(\"[]\").split(\" \"))\n",
    "type(df['next_item'].iloc[0])\n",
    "df\n"
   ]
  },
  {
   "cell_type": "code",
   "execution_count": 98,
   "metadata": {},
   "outputs": [],
   "source": [
    "# concatenated_prev = np.concatenate(np.concatenate(df.prev_items.values.reshape(-1,1)).tolist()) \n",
    "\n",
    "# concatenated_next = np.concatenate(np.concatenate(df.next_item.values.reshape(-1,1)).tolist())\n",
    "\n",
    "# concatenated = np.concatenate((concatenated_prev, concatenated_next))\n",
    "\n",
    "# # len(concatenated)\n",
    "\n",
    "# # concatenated_prev\n",
    "\n",
    "# unique_items, unique_item_id = np.unique(concatenated, return_inverse=True)\n",
    "\n",
    "# # len(unique_items)\n",
    "\n",
    "# unique_items\n",
    "\n",
    "# unique_item_id\n",
    "\n"
   ]
  },
  {
   "cell_type": "code",
   "execution_count": 111,
   "metadata": {},
   "outputs": [
    {
     "data": {
      "text/plain": [
       "Index(['ItemId', 'SessionId', 'Time'], dtype='object')"
      ]
     },
     "execution_count": 111,
     "metadata": {},
     "output_type": "execute_result"
    }
   ],
   "source": [
    "from sklearn import preprocessing\n",
    "le = preprocessing.LabelEncoder()\n",
    "\n",
    "df_temp = df\n",
    "\n",
    "df_temp = df_temp.drop(['next_item'], axis=1)\n",
    "\n",
    "df_temp = df_temp.rename(columns={\"index\":\"SessionId\"})\n",
    "df_temp['SessionId'] = df_temp.index\n",
    "\n",
    "df_temp = df_temp.explode('prev_items')\n",
    "# df_temp = df_temp.explode('next_item')\n",
    "\n",
    "df_temp = df_temp.rename(columns={\"prev_items\":\"ItemId\"})\n",
    "\n",
    "df_temp['ItemId'] = le.fit_transform(df_temp.ItemId.values)\n",
    "\n",
    "df_temp['Time'] = df_temp.groupby('SessionId').cumcount()\n",
    "# df_temp['Time'] += 1\n",
    "\n",
    "df_temp.to_csv('examp.csv', index=False)\n",
    "\n",
    "csvv = pd.read_csv('examp.csv')\n",
    "csvv.columns\n"
   ]
  },
  {
   "cell_type": "code",
   "execution_count": 100,
   "metadata": {},
   "outputs": [],
   "source": [
    "# a, b = np.unique(df_temp['next_item'].values, return_inverse=True)\n",
    "\n",
    "# print(b)\n",
    "\n",
    "# # codes, uniques = pd.factorize(['B012408XPC', 'B07JFPYN5P'])\n",
    "\n",
    "# # uniques\n"
   ]
  },
  {
   "cell_type": "code",
   "execution_count": 101,
   "metadata": {},
   "outputs": [],
   "source": [
    "# # print(type(df))\n",
    "# from keras.utils.np_utils import to_categorical\n",
    "\n",
    "# # len(unique_items)\n",
    "# # print(to_categorical([[1,2,3] ,[1,2,4]], num_classes=10))\n",
    "# print(to_categorical([[1,2,3] ,[1,2, 0]], num_classes=10))\n",
    "\n",
    "# # # print(df_temp['prev_items'].iloc[0])\n",
    "# # print(df_temp.values[0][0])\n",
    "# # print(type(df_temp.values[0][0]))\n",
    "\n",
    "# def one_hot(batch_items, unique_items):\n",
    "#     batch_size = len(batch_items)\n",
    "#     item_to_idx = {item: i for i, item in enumerate(unique_items)}\n",
    "#     onehot = np.zeros((batch_size, len(unique_items)))\n",
    "#     for i, itema in enumerate(batch_items):\n",
    "#         for i, item in enumerate(itema):\n",
    "#             if item in item_to_idx:\n",
    "#                 onehot[i, item_to_idx[item]] = 1\n",
    "#     return onehot\n",
    "\n",
    "# def one_hot_batched(df, batch_size, unique_items):\n",
    "#     n = df.shape[0]\n",
    "#     batches = (n + batch_size - 1) // batch_size\n",
    "#     onehot = np.zeros((0, unique_items.shape[0]))\n",
    "#     # unique, inverse = np.unique(concatenated, return_inverse=True)\n",
    "#     for i in range(batches):\n",
    "#         start = i * batch_size\n",
    "#         end = min(n, start + batch_size)\n",
    "#         batch = df.iloc[start:end]['prev_items'].values\n",
    "#         onehot_batch = one_hot(batch, unique_items)\n",
    "#         print(\"onehot = \", onehot.shape, \" onehot_batch = \", onehot_batch.shape)\n",
    "#         onehot = np.concatenate([onehot, onehot_batch], axis=0)\n",
    "#     return onehot\n",
    "\n",
    "# one_hot_batched_df = one_hot_batched(df_temp, 512, unique_items)\n"
   ]
  },
  {
   "cell_type": "code",
   "execution_count": 102,
   "metadata": {},
   "outputs": [
    {
     "data": {
      "text/plain": [
       "array([[[1, 2, 3],\n",
       "        [4, 5, 6],\n",
       "        [7, 8, 9]]])"
      ]
     },
     "execution_count": 102,
     "metadata": {},
     "output_type": "execute_result"
    }
   ],
   "source": [
    "# type(one_hot_batched_df[0][0])\n",
    "# one_hot_batched_df.to_csv(\"data1.csv\")\n",
    "# one_hot_batched_df.tofile('data2.csv', sep = ',')\n",
    "df\n",
    "i = np.expand_dims([[1,2,3],[4,5,6],[7,8,9]], axis=0)\n",
    "i"
   ]
  },
  {
   "cell_type": "code",
   "execution_count": 103,
   "metadata": {},
   "outputs": [],
   "source": [
    "# train_n_items = len(df_pure['ItemId'].unique()) + 1"
   ]
  },
  {
   "cell_type": "code",
   "execution_count": 104,
   "metadata": {},
   "outputs": [],
   "source": [
    "# click_offsets = self.dataset.click_offsets\n",
    "# session_idx_arr = self.dataset.session_idx_arr\n",
    "# iters = np.arange(self.batch_size) \n",
    "# start = click_offsets[session_idx_arr[iters]] \n",
    "# idx_target = df.item_idx.values[start] \n",
    "# # burasi feat yapıp doduruyo\n",
    "\n",
    "# input_oh = to_categorical(feat, num_classes=loader.n_items)\n",
    "# # burasi da categorical yapiyo\n",
    "# # demekki feat integer arrayi"
   ]
  },
  {
   "cell_type": "code",
   "execution_count": 105,
   "metadata": {},
   "outputs": [],
   "source": [
    "# df = pd.DataFrame({'SessionId': ['1', '1', '1', '2', '2', '3', '3'],\n",
    "#                    'Time': ['0', '1', '2', '0', '1', '0', '1'],\n",
    "#                    'ItemId': ['3', '8', '9', '15', '1', '4', '6']})\n",
    "# df_tmp.to_csv('examp.csv', index=False)"
   ]
  },
  {
   "cell_type": "code",
   "execution_count": 106,
   "metadata": {},
   "outputs": [],
   "source": [
    "# csvv = pd.read_csv('examp.csv')\n",
    "# csvv.columns"
   ]
  }
 ],
 "metadata": {
  "kernelspec": {
   "display_name": "Python 3",
   "language": "python",
   "name": "python3"
  },
  "language_info": {
   "codemirror_mode": {
    "name": "ipython",
    "version": 3
   },
   "file_extension": ".py",
   "mimetype": "text/x-python",
   "name": "python",
   "nbconvert_exporter": "python",
   "pygments_lexer": "ipython3",
   "version": "3.8.10"
  },
  "orig_nbformat": 4
 },
 "nbformat": 4,
 "nbformat_minor": 2
}
